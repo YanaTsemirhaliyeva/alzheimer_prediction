{
 "cells": [
  {
   "cell_type": "code",
   "execution_count": 1,
   "id": "7b09af63-d070-4e9a-8e4b-575872e5bd65",
   "metadata": {},
   "outputs": [],
   "source": [
    "import sys\n",
    "import os\n",
    "\n",
    "# Добавляем путь к корню проекта\n",
    "sys.path.append(os.path.abspath(os.path.join(os.getcwd(), '..')))\n",
    "\n",
    "from data_loader import DataProcessor\n",
    "import pandas as pd\n",
    "from scipy.stats import chi2_contingency"
   ]
  },
  {
   "cell_type": "code",
   "execution_count": 2,
   "id": "fdb288dd-6a77-4ec2-8192-283c89a88562",
   "metadata": {},
   "outputs": [
    {
     "name": "stdout",
     "output_type": "stream",
     "text": [
      "Данные успешно загружены из csv!\n",
      "Количество пропущенных значений в каждом столбце: \n",
      "Country                                 0\n",
      "Age                                     0\n",
      "Gender                                  0\n",
      "Education Level                         0\n",
      "BMI                                     0\n",
      "Physical Activity Level                 0\n",
      "Smoking Status                          0\n",
      "Alcohol Consumption                     0\n",
      "Diabetes                                0\n",
      "Hypertension                            0\n",
      "Cholesterol Level                       0\n",
      "Family History of Alzheimer’s           0\n",
      "Cognitive Test Score                    0\n",
      "Depression Level                        0\n",
      "Sleep Quality                           0\n",
      "Dietary Habits                          0\n",
      "Air Pollution Exposure                  0\n",
      "Employment Status                       0\n",
      "Marital Status                          0\n",
      "Genetic Risk Factor (APOE-ε4 allele)    0\n",
      "Social Engagement Level                 0\n",
      "Income Level                            0\n",
      "Stress Levels                           0\n",
      "Urban vs Rural Living                   0\n",
      "Alzheimer’s Diagnosis                   0\n",
      "dtype: int64\n"
     ]
    }
   ],
   "source": [
    "processor = DataProcessor()\n",
    "processor.load_csv('../data/alzheimers_prediction_dataset.csv')\n",
    "\n",
    "processor.count_missing_values()"
   ]
  },
  {
   "cell_type": "code",
   "execution_count": 3,
   "id": "5565c06c-c83e-4f00-8ecf-c51261835c78",
   "metadata": {},
   "outputs": [
    {
     "name": "stdout",
     "output_type": "stream",
     "text": [
      "Нет пропущенных значений. Заполнение не требуется.\n"
     ]
    }
   ],
   "source": [
    "processor.fill_missing_values() "
   ]
  },
  {
   "cell_type": "code",
   "execution_count": 4,
   "id": "370fd557-5b09-426c-bb5f-16a2b2068372",
   "metadata": {},
   "outputs": [
    {
     "name": "stdout",
     "output_type": "stream",
     "text": [
      "Фактор: Country\n",
      "Хи-квадрат: 856.50, p-значение: 0.0000\n",
      "=> Значимая связь с диагнозом болезни Альцгеймера\n",
      "\n",
      "Фактор: Age\n",
      "Хи-квадрат: 15248.17, p-значение: 0.0000\n",
      "=> Значимая связь с диагнозом болезни Альцгеймера\n",
      "\n",
      "Фактор: Gender\n",
      "Хи-квадрат: 0.13, p-значение: 0.7156\n",
      "=> Нет значимой связи\n",
      "\n",
      "Фактор: Education Level\n",
      "Хи-квадрат: 29.88, p-значение: 0.0533\n",
      "=> Нет значимой связи\n",
      "\n",
      "Фактор: BMI\n",
      "Хи-квадрат: 180.51, p-значение: 0.1936\n",
      "=> Нет значимой связи\n",
      "\n",
      "Фактор: Physical Activity Level\n",
      "Хи-квадрат: 0.71, p-значение: 0.7007\n",
      "=> Нет значимой связи\n",
      "\n",
      "Фактор: Smoking Status\n",
      "Хи-квадрат: 1.13, p-значение: 0.5682\n",
      "=> Нет значимой связи\n",
      "\n",
      "Фактор: Alcohol Consumption\n",
      "Хи-квадрат: 2.53, p-значение: 0.2818\n",
      "=> Нет значимой связи\n",
      "\n",
      "Фактор: Diabetes\n",
      "Хи-квадрат: 0.52, p-значение: 0.4721\n",
      "=> Нет значимой связи\n",
      "\n",
      "Фактор: Hypertension\n",
      "Хи-квадрат: 0.10, p-значение: 0.7544\n",
      "=> Нет значимой связи\n",
      "\n",
      "Фактор: Cholesterol Level\n",
      "Хи-квадрат: 0.32, p-значение: 0.5719\n",
      "=> Нет значимой связи\n",
      "\n",
      "Фактор: Family History of Alzheimer’s\n",
      "Хи-квадрат: 1473.78, p-значение: 0.0000\n",
      "=> Значимая связь с диагнозом болезни Альцгеймера\n",
      "\n",
      "Фактор: Cognitive Test Score\n",
      "Хи-квадрат: 50.07, p-значение: 0.9582\n",
      "=> Нет значимой связи\n",
      "\n",
      "Фактор: Depression Level\n",
      "Хи-квадрат: 0.58, p-значение: 0.7476\n",
      "=> Нет значимой связи\n",
      "\n",
      "Фактор: Sleep Quality\n",
      "Хи-квадрат: 0.09, p-значение: 0.9543\n",
      "=> Нет значимой связи\n",
      "\n",
      "Фактор: Dietary Habits\n",
      "Хи-квадрат: 1.53, p-значение: 0.4662\n",
      "=> Нет значимой связи\n",
      "\n",
      "Фактор: Air Pollution Exposure\n",
      "Хи-квадрат: 1.55, p-значение: 0.4601\n",
      "=> Нет значимой связи\n",
      "\n",
      "Фактор: Employment Status\n",
      "Хи-квадрат: 2.57, p-значение: 0.2761\n",
      "=> Нет значимой связи\n",
      "\n",
      "Фактор: Marital Status\n",
      "Хи-квадрат: 0.18, p-значение: 0.9126\n",
      "=> Нет значимой связи\n",
      "\n",
      "Фактор: Genetic Risk Factor (APOE-ε4 allele)\n",
      "Хи-квадрат: 2808.70, p-значение: 0.0000\n",
      "=> Значимая связь с диагнозом болезни Альцгеймера\n",
      "\n",
      "Фактор: Social Engagement Level\n",
      "Хи-квадрат: 0.76, p-значение: 0.6845\n",
      "=> Нет значимой связи\n",
      "\n",
      "Фактор: Income Level\n",
      "Хи-квадрат: 3.60, p-значение: 0.1653\n",
      "=> Нет значимой связи\n",
      "\n",
      "Фактор: Stress Levels\n",
      "Хи-квадрат: 2.04, p-значение: 0.3603\n",
      "=> Нет значимой связи\n",
      "\n",
      "Фактор: Urban vs Rural Living\n",
      "Хи-квадрат: 1.23, p-значение: 0.2665\n",
      "=> Нет значимой связи\n",
      "\n"
     ]
    }
   ],
   "source": [
    "# Проверка значимости для каждого фактора\n",
    "for factor in processor.data.columns:\n",
    "    if factor != 'Alzheimer’s Diagnosis':\n",
    "        contingency_table = pd.crosstab(processor.data[factor], processor.data[\"Alzheimer’s Diagnosis\"])\n",
    "        chi2, p, dof, expected = chi2_contingency(contingency_table)\n",
    "    \n",
    "        print(f\"Фактор: {factor}\")\n",
    "        print(f\"Хи-квадрат: {chi2:.2f}, p-значение: {p:.4f}\")\n",
    "        if p < 0.05:\n",
    "            print(\"=> Значимая связь с диагнозом болезни Альцгеймера\\n\")\n",
    "        else:\n",
    "            print(\"=> Нет значимой связи\\n\")\n"
   ]
  },
  {
   "cell_type": "code",
   "execution_count": null,
   "id": "f0019014-10ac-48ce-911c-cb4492e3717b",
   "metadata": {},
   "outputs": [],
   "source": []
  }
 ],
 "metadata": {
  "kernelspec": {
   "display_name": "Python 3 (ipykernel)",
   "language": "python",
   "name": "python3"
  },
  "language_info": {
   "codemirror_mode": {
    "name": "ipython",
    "version": 3
   },
   "file_extension": ".py",
   "mimetype": "text/x-python",
   "name": "python",
   "nbconvert_exporter": "python",
   "pygments_lexer": "ipython3",
   "version": "3.12.7"
  }
 },
 "nbformat": 4,
 "nbformat_minor": 5
}
