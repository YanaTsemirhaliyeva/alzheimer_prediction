{
 "cells": [
  {
   "cell_type": "code",
   "execution_count": 1,
   "id": "126110a6-097f-4d35-a2f8-8f17f3a671a9",
   "metadata": {},
   "outputs": [],
   "source": [
    "import pandas as pd"
   ]
  },
  {
   "cell_type": "code",
   "execution_count": 2,
   "id": "9dfdcf83-5208-4657-83b1-2069f412b2d8",
   "metadata": {},
   "outputs": [],
   "source": [
    "class DataProcessor:\n",
    "    def __init__(self):\n",
    "        self.data = None\n",
    "\n",
    "    def load_csv(self, path: str) -> None:\n",
    "        try:\n",
    "            self.data = pd.read_csv(path)\n",
    "            print('Данные успешно загружены из csv!')\n",
    "        except Exception as e:\n",
    "            print(f'Ошибка при загрузке csv: {e}')\n",
    "\n",
    "    def watch_data_head(self) -> None:\n",
    "        if self.data is not None:\n",
    "            print(self.data.head())\n",
    "        else:\n",
    "            print('Данные не загружены. Используйте метод load_csv()')\n",
    "\n",
    "    def count_missing_values(self) -> None:\n",
    "        if self.data is not None:\n",
    "            missing_values = self.data.isnull().sum()\n",
    "            print(f'Количество пропущенных значений в каждом столбце: \\n{missing_values}')\n",
    "        else:\n",
    "            print('Данные не загружены. Используйте метод load_csv() для загрузки данных.')\n",
    "\n",
    "    def fill_missing_values(self, strategy: str = 'mean') -> None:\n",
    "        if self.data is not None:\n",
    "        # Проверяем, есть ли пропущенные значения\n",
    "            if self.data.isnull().sum().sum() == 0:\n",
    "                print(\"Нет пропущенных значений. Заполнение не требуется.\")\n",
    "                return\n",
    "    \n",
    "            # Выполняем заполнение в зависимости от выбранной стратегии\n",
    "            try:\n",
    "                if strategy == 'mean':\n",
    "                    self.data.fillna(self.data.mean(numeric_only=True), inplace=True)\n",
    "                elif strategy == 'median':\n",
    "                    self.data.fillna(self.data.median(numeric_only=True), inplace=True)\n",
    "                elif strategy == 'most_frequent':\n",
    "                    self.data.fillna(self.data.mode().iloc[0], inplace=True)\n",
    "                else:\n",
    "                    print(\"Неподдерживаемая стратегия заполнения. Используйте 'mean', 'median' или 'most_frequent'.\")\n",
    "                    return\n",
    "                print(f\"Пропущенные значения успешно заполнены с использованием стратегии: {strategy}.\")\n",
    "            except Exception as e:\n",
    "                print(f\"Произошла ошибка при заполнении значений: {e}\")\n",
    "        else:\n",
    "            print(\"Данные не загружены. Используйте метод load_csv() для загрузки данных.\")"
   ]
  },
  {
   "cell_type": "code",
   "execution_count": null,
   "id": "a285ff6a-f9f2-40c2-80c1-d1d9ec9ebdb5",
   "metadata": {},
   "outputs": [],
   "source": []
  }
 ],
 "metadata": {
  "kernelspec": {
   "display_name": "Python 3 (ipykernel)",
   "language": "python",
   "name": "python3"
  },
  "language_info": {
   "codemirror_mode": {
    "name": "ipython",
    "version": 3
   },
   "file_extension": ".py",
   "mimetype": "text/x-python",
   "name": "python",
   "nbconvert_exporter": "python",
   "pygments_lexer": "ipython3",
   "version": "3.12.7"
  }
 },
 "nbformat": 4,
 "nbformat_minor": 5
}
