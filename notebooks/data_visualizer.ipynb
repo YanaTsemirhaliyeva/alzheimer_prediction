{
 "cells": [
  {
   "cell_type": "code",
   "execution_count": 1,
   "id": "3ee06d32-0083-42be-81cb-ac454f899f75",
   "metadata": {},
   "outputs": [],
   "source": [
    "import matplotlib.pyplot as plt\n",
    "import seaborn as sns"
   ]
  },
  {
   "cell_type": "code",
   "execution_count": 2,
   "id": "2ba525bc-8e2c-4342-b785-560f985b3606",
   "metadata": {},
   "outputs": [],
   "source": [
    "class DataVisualizer:\n",
    "    def __init__(self, data):\n",
    "        self.data = data\n",
    "\n",
    "    def plot_histogram(self, column: str) -> None:\n",
    "        if self.data is not None:\n",
    "            if column in self.data.columns:\n",
    "                self.data[column].hist(bins=20)\n",
    "                plt.title(f'Гистограмма: {column}')\n",
    "                plt.xlabel(column)\n",
    "                plt.ylabel('Частота')\n",
    "                plt.show()\n",
    "            else:\n",
    "                print(f'Столбец {column} не найден в данных')\n",
    "        else:\n",
    "            print('Данные отсутствуют')\n",
    "\n",
    "    def plot_line(self, column_x: str, column_y: str) -> None:\n",
    "        if self.data is not None:\n",
    "            if column_x in self.data.columns and column_y in self.data.columns:\n",
    "                # Ограничиваем данные для построения графика (каждая 100-я строка)\n",
    "                subset = self.data.iloc[::500]\n",
    "\n",
    "                # Данные для осей\n",
    "                x_values = range(len(subset))\n",
    "                y_true = subset[column_x]\n",
    "                y_pred = subset[column_y]\n",
    "\n",
    "                # Настройка графика\n",
    "                plt.figure(figsize=(12, 6))\n",
    "                plt.plot(x_values, y_true, label=column_x, marker='o', linestyle='-', color='blue', alpha=0.7)\n",
    "                plt.plot(x_values, y_pred, label=column_y, marker='x', linestyle='--', color='orange', alpha=0.7)\n",
    "\n",
    "                # Оформление\n",
    "                plt.xlabel('Наблюдения')\n",
    "                plt.ylabel('Значения')\n",
    "                plt.title(f'Сравнение: {column_x} vs {column_y}')\n",
    "                plt.legend()\n",
    "                plt.grid(True)\n",
    "\n",
    "                # Отображение графика\n",
    "                plt.show()\n",
    "            else:\n",
    "                 print(f\"Столбцы '{column_x}' или '{column_y}' не найдены в данных.\")\n",
    "        else:\n",
    "            print('Данные отсутствуют.')\n",
    "\n",
    "    def plot_scatter(self, hue_column) -> None:\n",
    "            if not hue_column in self.data.columns:\n",
    "                print('Данные по признаку отсутствуют')\n",
    "                return\n",
    "                \n",
    "            if self.data is not None:\n",
    "                # Построение диаграмм рассеивания для всех признаков\n",
    "                plt.figure(figsize=(12, 8))\n",
    "                sns.pairplot(\n",
    "                    self.data, \n",
    "                    hue=hue_column,  # Цвет точек в зависимости от метки класса\n",
    "                    diag_kind='kde',  # Диагональные графики - оценки плотности\n",
    "                    palette='viridis', \n",
    "                    plot_kws={'alpha': 0.7}  # Прозрачность точек\n",
    "                )\n",
    "                plt.suptitle(\"Диаграммы рассеивания для всех признаков\", y=1.02)\n",
    "                plt.show()\n",
    "            else:\n",
    "                print(\"Данные отсутствуют.\")"
   ]
  },
  {
   "cell_type": "code",
   "execution_count": null,
   "id": "36288502-09b5-4190-bd05-5d1f858e38f6",
   "metadata": {},
   "outputs": [],
   "source": []
  }
 ],
 "metadata": {
  "kernelspec": {
   "display_name": "Python 3 (ipykernel)",
   "language": "python",
   "name": "python3"
  },
  "language_info": {
   "codemirror_mode": {
    "name": "ipython",
    "version": 3
   },
   "file_extension": ".py",
   "mimetype": "text/x-python",
   "name": "python",
   "nbconvert_exporter": "python",
   "pygments_lexer": "ipython3",
   "version": "3.12.7"
  }
 },
 "nbformat": 4,
 "nbformat_minor": 5
}
